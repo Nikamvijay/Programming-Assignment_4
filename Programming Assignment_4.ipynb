{
 "cells": [
  {
   "cell_type": "markdown",
   "id": "12380386",
   "metadata": {},
   "source": [
    "### 1) Write a Python Program to Find the Factorial of a Number?"
   ]
  },
  {
   "cell_type": "code",
   "execution_count": 1,
   "id": "2a45685f",
   "metadata": {},
   "outputs": [
    {
     "name": "stdout",
     "output_type": "stream",
     "text": [
      "Enter the number15\n",
      "1307674368000\n"
     ]
    }
   ],
   "source": [
    "n=int(input('Enter the number'))\n",
    "s=1\n",
    "for i in range(1,n+1):\n",
    "    s=s*i  \n",
    "print(s)    "
   ]
  },
  {
   "cell_type": "markdown",
   "id": "f7be9da7",
   "metadata": {},
   "source": [
    "### 2) Write a Python Program to Display the multiplication Table?"
   ]
  },
  {
   "cell_type": "code",
   "execution_count": 2,
   "id": "29f73e9c",
   "metadata": {},
   "outputs": [
    {
     "name": "stdout",
     "output_type": "stream",
     "text": [
      "Enter the number 15\n",
      "15 * 1 = 15\n",
      "15 * 2 = 30\n",
      "15 * 3 = 45\n",
      "15 * 4 = 60\n",
      "15 * 5 = 75\n",
      "15 * 6 = 90\n",
      "15 * 7 = 105\n",
      "15 * 8 = 120\n",
      "15 * 9 = 135\n",
      "15 * 10 = 150\n"
     ]
    }
   ],
   "source": [
    "n=int(input('Enter the number '))\n",
    "i=1\n",
    "while i<=10:\n",
    "    print(f'{n} * {i} =',n*i)\n",
    "    i+=1"
   ]
  },
  {
   "cell_type": "markdown",
   "id": "5d443f93",
   "metadata": {},
   "source": [
    "### 3) Write a Python Program to Print the Fibonacci sequence?"
   ]
  },
  {
   "cell_type": "code",
   "execution_count": 3,
   "id": "37e74dd2",
   "metadata": {},
   "outputs": [
    {
     "name": "stdout",
     "output_type": "stream",
     "text": [
      "The Fibonacci series 15\n",
      "1\n",
      "2\n",
      "3\n",
      "5\n",
      "8\n",
      "13\n",
      "21\n",
      "34\n",
      "55\n",
      "89\n",
      "144\n",
      "233\n",
      "377\n",
      "610\n",
      "987\n",
      "1597\n"
     ]
    }
   ],
   "source": [
    "n=int(input('The Fibonacci series '))\n",
    "x=0\n",
    "y=1\n",
    "\n",
    "for i in range(n+1):\n",
    "    s=x+y\n",
    "    print(s)\n",
    "    x=y\n",
    "    y=s"
   ]
  },
  {
   "cell_type": "markdown",
   "id": "abd4b5a4",
   "metadata": {},
   "source": [
    "### 4)Write a Python Program to Check Armstrong Number?"
   ]
  },
  {
   "cell_type": "code",
   "execution_count": 4,
   "id": "77041e5e",
   "metadata": {},
   "outputs": [
    {
     "name": "stdout",
     "output_type": "stream",
     "text": [
      "Enter The Number 407\n",
      "407 is a Armstrong Number\n"
     ]
    }
   ],
   "source": [
    "n=int(input('Enter The Number '))\n",
    "s=0\n",
    "t=n\n",
    "while n!=0:\n",
    "    r=n%10\n",
    "    s=s+r**3\n",
    "    n=n//10\n",
    "if t==s:\n",
    "    print(f'{t} is a Armstrong Number')\n",
    "else:\n",
    "    print(f'{t} is not a Armstrong Number')"
   ]
  },
  {
   "cell_type": "markdown",
   "id": "84fa44a8",
   "metadata": {},
   "source": [
    "### 5)Write a Python Program to Find Armstrong Number in an Interval?"
   ]
  },
  {
   "cell_type": "code",
   "execution_count": 5,
   "id": "5d3441aa",
   "metadata": {},
   "outputs": [
    {
     "name": "stdout",
     "output_type": "stream",
     "text": [
      "153\n",
      "370\n",
      "371\n",
      "407\n",
      "1634\n",
      "8208\n",
      "9474\n",
      "54748\n",
      "92727\n",
      "93084\n"
     ]
    }
   ],
   "source": [
    "for i in range(100,100000+1):\n",
    "    n=len(str(i))\n",
    "    s=0\n",
    "    t=i\n",
    "    while t!=0:\n",
    "        r=t%10\n",
    "        s=s+r**n\n",
    "        t=t//10\n",
    "    if i==s:\n",
    "        print(i)"
   ]
  },
  {
   "cell_type": "markdown",
   "id": "12acf0f6",
   "metadata": {},
   "source": [
    "### 6)Write a Python Program to Find the Sum of Natural Numbers?"
   ]
  },
  {
   "cell_type": "code",
   "execution_count": 6,
   "id": "437f8355",
   "metadata": {},
   "outputs": [
    {
     "name": "stdout",
     "output_type": "stream",
     "text": [
      "Enter the number 15\n",
      "The Sum of Nature Number is  120\n"
     ]
    }
   ],
   "source": [
    "n=int(input('Enter the number '))\n",
    "if n<0:\n",
    "    print('Positive number')\n",
    "else:\n",
    "    s=n*(n+1)/2\n",
    "    print('The Sum of Nature Number is ',int(s))"
   ]
  }
 ],
 "metadata": {
  "kernelspec": {
   "display_name": "Python 3 (ipykernel)",
   "language": "python",
   "name": "python3"
  },
  "language_info": {
   "codemirror_mode": {
    "name": "ipython",
    "version": 3
   },
   "file_extension": ".py",
   "mimetype": "text/x-python",
   "name": "python",
   "nbconvert_exporter": "python",
   "pygments_lexer": "ipython3",
   "version": "3.9.12"
  }
 },
 "nbformat": 4,
 "nbformat_minor": 5
}
